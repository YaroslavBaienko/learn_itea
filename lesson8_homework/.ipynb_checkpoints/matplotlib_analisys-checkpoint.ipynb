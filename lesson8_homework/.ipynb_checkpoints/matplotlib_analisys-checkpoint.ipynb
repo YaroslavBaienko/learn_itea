{
 "cells": [
  {
   "cell_type": "code",
   "execution_count": 1,
   "id": "6f34250a",
   "metadata": {},
   "outputs": [
    {
     "ename": "ModuleNotFoundError",
     "evalue": "No module named 'tabulate'",
     "output_type": "error",
     "traceback": [
      "\u001b[0;31m---------------------------------------------------------------------------\u001b[0m",
      "\u001b[0;31mModuleNotFoundError\u001b[0m                       Traceback (most recent call last)",
      "Cell \u001b[0;32mIn [1], line 4\u001b[0m\n\u001b[1;32m      2\u001b[0m \u001b[38;5;28;01mimport\u001b[39;00m \u001b[38;5;21;01mre\u001b[39;00m\n\u001b[1;32m      3\u001b[0m \u001b[38;5;28;01mfrom\u001b[39;00m \u001b[38;5;21;01mcollections\u001b[39;00m \u001b[38;5;28;01mimport\u001b[39;00m Counter\n\u001b[0;32m----> 4\u001b[0m \u001b[38;5;28;01mfrom\u001b[39;00m \u001b[38;5;21;01mtabulate\u001b[39;00m \u001b[38;5;28;01mimport\u001b[39;00m tabulate\n\u001b[1;32m      5\u001b[0m \u001b[38;5;28;01mimport\u001b[39;00m \u001b[38;5;21;01mmatplotlib\u001b[39;00m\u001b[38;5;21;01m.\u001b[39;00m\u001b[38;5;21;01mpyplot\u001b[39;00m \u001b[38;5;28;01mas\u001b[39;00m \u001b[38;5;21;01mplt\u001b[39;00m\n\u001b[1;32m      8\u001b[0m \u001b[38;5;28;01mdef\u001b[39;00m \u001b[38;5;21mcheck_type_exist\u001b[39m(filename: \u001b[38;5;28mstr\u001b[39m):\n",
      "\u001b[0;31mModuleNotFoundError\u001b[0m: No module named 'tabulate'"
     ]
    }
   ],
   "source": [
    "\"\"\"Count an amount of mails on the same domains ordered by descending\"\"\"\n",
    "import re\n",
    "from collections import Counter\n",
    "from tabulate import tabulate\n",
    "import matplotlib.pyplot as plt\n",
    "\n",
    "\n",
    "def check_type_exist(filename: str):\n",
    "    \"\"\"Check if file exist and has text type\"\"\"\n",
    "    try:\n",
    "        open(filename).readline()\n",
    "    except FileNotFoundError as error:\n",
    "        return str(error)\n",
    "    except UnicodeDecodeError:\n",
    "        return 'File must be text type'\n",
    "    return False\n",
    "\n",
    "\n",
    "def read_elements_from_file(filename: str):\n",
    "    \"\"\"Read data from txt file\"\"\"\n",
    "    elements = list()\n",
    "    with open(filename) as elements_file:\n",
    "        for element in elements_file:\n",
    "            element = element.strip()\n",
    "            elements.append(element)\n",
    "    return elements\n",
    "\n",
    "\n",
    "def search_all_domains(elements: str):\n",
    "    \"\"\"Search all domain names from elements\"\"\"\n",
    "    all_domains = list()\n",
    "    for element in elements:\n",
    "        search_result = re.search(r'\\@[A-Za-z0-9.-]+\\.[A-Z|a-z]{2,}\\b', element)\n",
    "        if search_result is not None:\n",
    "            all_domains.append(search_result.group())\n",
    "    return all_domains\n",
    "\n",
    "\n",
    "def main(filename: str):\n",
    "    \"\"\"Main controller\"\"\"\n",
    "    check = check_type_exist(filename=filename)\n",
    "    if check:\n",
    "        print(check)\n",
    "        exit()\n",
    "    elements = read_elements_from_file(filename=filename)\n",
    "    all_domains = search_all_domains(elements=elements)\n",
    "    counter = Counter(all_domains)\n",
    "    result = [(l, k) for k, l in sorted([(j, i) for i, j in counter.items()], reverse=True)]\n",
    "    return result\n",
    "\n",
    "\n",
    "if __name__ == '__main__':\n",
    "    filename = 'mbox.txt'\n",
    "    result = main(filename=filename)\n",
    "    print('There are the next amount of mails on the same domains ordered by descending: ')\n",
    "    table = list()\n",
    "    sum = 0\n",
    "    for num in result:\n",
    "        sum = sum + num[1]\n",
    "    percentage = list()\n",
    "    for num in result:\n",
    "        percent = num[1] * 100 / sum\n",
    "        percentage.append(percent)\n",
    "    table = list()\n",
    "    for domain, nums in result:\n",
    "        table.append([domain, nums, str((nums * 100) / sum) + ' %'])\n",
    "    print(tabulate(table, headers=[\"DOMAIN\", \"COUNT\", \"PERCENTAGE\"]))\n"
   ]
  },
  {
   "cell_type": "code",
   "execution_count": null,
   "id": "9838b8ca",
   "metadata": {},
   "outputs": [],
   "source": []
  }
 ],
 "metadata": {
  "kernelspec": {
   "display_name": "Python 3 (ipykernel)",
   "language": "python",
   "name": "python3"
  },
  "language_info": {
   "codemirror_mode": {
    "name": "ipython",
    "version": 3
   },
   "file_extension": ".py",
   "mimetype": "text/x-python",
   "name": "python",
   "nbconvert_exporter": "python",
   "pygments_lexer": "ipython3",
   "version": "3.10.6"
  },
  "vscode": {
   "interpreter": {
    "hash": "10ea30e0b141d67cfb42655096204a9b56a3bb6ba8809c3d8c39073e1a1f943f"
   }
  }
 },
 "nbformat": 4,
 "nbformat_minor": 5
}
